{
 "cells": [
  {
   "cell_type": "code",
   "execution_count": 155,
   "id": "a5773e38-eb4e-4ba8-b344-2d26967d068d",
   "metadata": {},
   "outputs": [],
   "source": [
    "library(fmsb)\n",
    "library(dplyr)"
   ]
  },
  {
   "cell_type": "code",
   "execution_count": 156,
   "id": "7a70569c-4e85-4237-bbb9-58ceaab19ac4",
   "metadata": {},
   "outputs": [],
   "source": [
    "fifa <- read.csv(\"data/FIFA2.csv\")"
   ]
  },
  {
   "cell_type": "code",
   "execution_count": 157,
   "id": "e8bcd3b4-c45f-4511-83b6-c9c66e9d4f57",
   "metadata": {},
   "outputs": [
    {
     "data": {
      "text/html": [
       "<table class=\"dataframe\">\n",
       "<caption>A data.frame: 6 × 85</caption>\n",
       "<thead>\n",
       "\t<tr><th></th><th scope=col>ID</th><th scope=col>Name</th><th scope=col>Age</th><th scope=col>Nationality</th><th scope=col>Overall</th><th scope=col>Potential</th><th scope=col>Club</th><th scope=col>Value</th><th scope=col>Wage</th><th scope=col>Special</th><th scope=col>...</th><th scope=col>Composure</th><th scope=col>Marking</th><th scope=col>StandingTackle</th><th scope=col>SlidingTackle</th><th scope=col>GKDiving</th><th scope=col>GKHandling</th><th scope=col>GKKicking</th><th scope=col>GKPositioning</th><th scope=col>GKReflexes</th><th scope=col>Release.Clause</th></tr>\n",
       "\t<tr><th></th><th scope=col>&lt;chr&gt;</th><th scope=col>&lt;chr&gt;</th><th scope=col>&lt;int&gt;</th><th scope=col>&lt;chr&gt;</th><th scope=col>&lt;int&gt;</th><th scope=col>&lt;int&gt;</th><th scope=col>&lt;chr&gt;</th><th scope=col>&lt;chr&gt;</th><th scope=col>&lt;int&gt;</th><th scope=col>&lt;int&gt;</th><th scope=col>...</th><th scope=col>&lt;int&gt;</th><th scope=col>&lt;int&gt;</th><th scope=col>&lt;int&gt;</th><th scope=col>&lt;int&gt;</th><th scope=col>&lt;int&gt;</th><th scope=col>&lt;int&gt;</th><th scope=col>&lt;int&gt;</th><th scope=col>&lt;int&gt;</th><th scope=col>&lt;int&gt;</th><th scope=col>&lt;chr&gt;</th></tr>\n",
       "</thead>\n",
       "<tbody>\n",
       "\t<tr><th scope=row>1</th><td>x     </td><td>max              </td><td>100</td><td>100      </td><td>100</td><td>100</td><td>100                </td><td>100  </td><td>100</td><td> 100</td><td>...</td><td>100</td><td>100</td><td>100</td><td>100</td><td>100</td><td>100</td><td>100</td><td>100</td><td>100</td><td>100      </td></tr>\n",
       "\t<tr><th scope=row>2</th><td>n     </td><td>min              </td><td>  0</td><td>0        </td><td>  0</td><td>  0</td><td>0                  </td><td>0    </td><td>  0</td><td>   0</td><td>...</td><td>  0</td><td>  0</td><td>  0</td><td>  0</td><td>  0</td><td>  0</td><td>  0</td><td>  0</td><td>  0</td><td>0        </td></tr>\n",
       "\t<tr><th scope=row>3</th><td>158023</td><td>L. Messi         </td><td> 31</td><td>Argentina</td><td> 94</td><td> 94</td><td>FC Barcelona       </td><td>110.5</td><td>565</td><td>2202</td><td>...</td><td> 96</td><td> 33</td><td> 28</td><td> 26</td><td>  6</td><td> 11</td><td> 15</td><td> 14</td><td>  8</td><td>â‚¬226.5M</td></tr>\n",
       "\t<tr><th scope=row>4</th><td>20801 </td><td>Cristiano Ronaldo</td><td> 33</td><td>Portugal </td><td> 94</td><td> 94</td><td>Juventus           </td><td>77   </td><td>405</td><td>2228</td><td>...</td><td> 95</td><td> 28</td><td> 31</td><td> 23</td><td>  7</td><td> 11</td><td> 15</td><td> 14</td><td> 11</td><td>â‚¬127.1M</td></tr>\n",
       "\t<tr><th scope=row>5</th><td>190871</td><td>Neymar Jr        </td><td> 26</td><td>Brazil   </td><td> 92</td><td> 93</td><td>Paris Saint-Germain</td><td>118.5</td><td>290</td><td>2143</td><td>...</td><td> 94</td><td> 27</td><td> 24</td><td> 33</td><td>  9</td><td>  9</td><td> 15</td><td> 15</td><td> 11</td><td>â‚¬228.1M</td></tr>\n",
       "\t<tr><th scope=row>6</th><td>193080</td><td>De Gea           </td><td> 27</td><td>Spain    </td><td> 91</td><td> 93</td><td>Manchester United  </td><td>72   </td><td>260</td><td>1471</td><td>...</td><td> 68</td><td> 15</td><td> 21</td><td> 13</td><td> 90</td><td> 85</td><td> 87</td><td> 88</td><td> 94</td><td>â‚¬138.6M</td></tr>\n",
       "</tbody>\n",
       "</table>\n"
      ],
      "text/latex": [
       "A data.frame: 6 × 85\n",
       "\\begin{tabular}{r|lllllllllllllllllllll}\n",
       "  & ID & Name & Age & Nationality & Overall & Potential & Club & Value & Wage & Special & ... & Composure & Marking & StandingTackle & SlidingTackle & GKDiving & GKHandling & GKKicking & GKPositioning & GKReflexes & Release.Clause\\\\\n",
       "  & <chr> & <chr> & <int> & <chr> & <int> & <int> & <chr> & <chr> & <int> & <int> & ... & <int> & <int> & <int> & <int> & <int> & <int> & <int> & <int> & <int> & <chr>\\\\\n",
       "\\hline\n",
       "\t1 & x      & max               & 100 & 100       & 100 & 100 & 100                 & 100   & 100 &  100 & ... & 100 & 100 & 100 & 100 & 100 & 100 & 100 & 100 & 100 & 100      \\\\\n",
       "\t2 & n      & min               &   0 & 0         &   0 &   0 & 0                   & 0     &   0 &    0 & ... &   0 &   0 &   0 &   0 &   0 &   0 &   0 &   0 &   0 & 0        \\\\\n",
       "\t3 & 158023 & L. Messi          &  31 & Argentina &  94 &  94 & FC Barcelona        & 110.5 & 565 & 2202 & ... &  96 &  33 &  28 &  26 &   6 &  11 &  15 &  14 &   8 & â‚¬226.5M\\\\\n",
       "\t4 & 20801  & Cristiano Ronaldo &  33 & Portugal  &  94 &  94 & Juventus            & 77    & 405 & 2228 & ... &  95 &  28 &  31 &  23 &   7 &  11 &  15 &  14 &  11 & â‚¬127.1M\\\\\n",
       "\t5 & 190871 & Neymar Jr         &  26 & Brazil    &  92 &  93 & Paris Saint-Germain & 118.5 & 290 & 2143 & ... &  94 &  27 &  24 &  33 &   9 &   9 &  15 &  15 &  11 & â‚¬228.1M\\\\\n",
       "\t6 & 193080 & De Gea            &  27 & Spain     &  91 &  93 & Manchester United   & 72    & 260 & 1471 & ... &  68 &  15 &  21 &  13 &  90 &  85 &  87 &  88 &  94 & â‚¬138.6M\\\\\n",
       "\\end{tabular}\n"
      ],
      "text/markdown": [
       "\n",
       "A data.frame: 6 × 85\n",
       "\n",
       "| <!--/--> | ID &lt;chr&gt; | Name &lt;chr&gt; | Age &lt;int&gt; | Nationality &lt;chr&gt; | Overall &lt;int&gt; | Potential &lt;int&gt; | Club &lt;chr&gt; | Value &lt;chr&gt; | Wage &lt;int&gt; | Special &lt;int&gt; | ... ... | Composure &lt;int&gt; | Marking &lt;int&gt; | StandingTackle &lt;int&gt; | SlidingTackle &lt;int&gt; | GKDiving &lt;int&gt; | GKHandling &lt;int&gt; | GKKicking &lt;int&gt; | GKPositioning &lt;int&gt; | GKReflexes &lt;int&gt; | Release.Clause &lt;chr&gt; |\n",
       "|---|---|---|---|---|---|---|---|---|---|---|---|---|---|---|---|---|---|---|---|---|---|\n",
       "| 1 | x      | max               | 100 | 100       | 100 | 100 | 100                 | 100   | 100 |  100 | ... | 100 | 100 | 100 | 100 | 100 | 100 | 100 | 100 | 100 | 100       |\n",
       "| 2 | n      | min               |   0 | 0         |   0 |   0 | 0                   | 0     |   0 |    0 | ... |   0 |   0 |   0 |   0 |   0 |   0 |   0 |   0 |   0 | 0         |\n",
       "| 3 | 158023 | L. Messi          |  31 | Argentina |  94 |  94 | FC Barcelona        | 110.5 | 565 | 2202 | ... |  96 |  33 |  28 |  26 |   6 |  11 |  15 |  14 |   8 | â‚¬226.5M |\n",
       "| 4 | 20801  | Cristiano Ronaldo |  33 | Portugal  |  94 |  94 | Juventus            | 77    | 405 | 2228 | ... |  95 |  28 |  31 |  23 |   7 |  11 |  15 |  14 |  11 | â‚¬127.1M |\n",
       "| 5 | 190871 | Neymar Jr         |  26 | Brazil    |  92 |  93 | Paris Saint-Germain | 118.5 | 290 | 2143 | ... |  94 |  27 |  24 |  33 |   9 |   9 |  15 |  15 |  11 | â‚¬228.1M |\n",
       "| 6 | 193080 | De Gea            |  27 | Spain     |  91 |  93 | Manchester United   | 72    | 260 | 1471 | ... |  68 |  15 |  21 |  13 |  90 |  85 |  87 |  88 |  94 | â‚¬138.6M |\n",
       "\n"
      ],
      "text/plain": [
       "  ID     Name              Age Nationality Overall Potential\n",
       "1 x      max               100 100         100     100      \n",
       "2 n      min                 0 0             0       0      \n",
       "3 158023 L. Messi           31 Argentina    94      94      \n",
       "4 20801  Cristiano Ronaldo  33 Portugal     94      94      \n",
       "5 190871 Neymar Jr          26 Brazil       92      93      \n",
       "6 193080 De Gea             27 Spain        91      93      \n",
       "  Club                Value Wage Special ... Composure Marking StandingTackle\n",
       "1 100                 100   100   100    ... 100       100     100           \n",
       "2 0                   0       0     0    ...   0         0       0           \n",
       "3 FC Barcelona        110.5 565  2202    ...  96        33      28           \n",
       "4 Juventus            77    405  2228    ...  95        28      31           \n",
       "5 Paris Saint-Germain 118.5 290  2143    ...  94        27      24           \n",
       "6 Manchester United   72    260  1471    ...  68        15      21           \n",
       "  SlidingTackle GKDiving GKHandling GKKicking GKPositioning GKReflexes\n",
       "1 100           100      100        100       100           100       \n",
       "2   0             0        0          0         0             0       \n",
       "3  26             6       11         15        14             8       \n",
       "4  23             7       11         15        14            11       \n",
       "5  33             9        9         15        15            11       \n",
       "6  13            90       85         87        88            94       \n",
       "  Release.Clause\n",
       "1 100           \n",
       "2 0             \n",
       "3 â‚¬226.5M     \n",
       "4 â‚¬127.1M     \n",
       "5 â‚¬228.1M     \n",
       "6 â‚¬138.6M     "
      ]
     },
     "metadata": {},
     "output_type": "display_data"
    }
   ],
   "source": [
    "head(fifa)"
   ]
  },
  {
   "cell_type": "code",
   "execution_count": 169,
   "id": "6801136c-fc1a-4c0f-add4-02f0edcc954b",
   "metadata": {},
   "outputs": [],
   "source": [
    "a  <- c( rgb(0.2,0.5,0.5,0.9), rgb(0.8,0.2,0.5,0.9) , rgb(0.7,0.5,0.1,0.9) )\n",
    "b     <- c( rgb(0.2,0.5,0.5,0.4), rgb(0.8,0.2,0.5,0.4) , rgb(0.7,0.5,0.1,0.4) )"
   ]
  },
  {
   "cell_type": "code",
   "execution_count": 158,
   "id": "8d3719fc-7dd2-46dc-811f-18e6fc4aa26c",
   "metadata": {},
   "outputs": [],
   "source": [
    "fif <- fifa |> select(Name, Stamina, Jumping, Agility, BallControl, Finishing, Vision, Aggression)"
   ]
  },
  {
   "cell_type": "code",
   "execution_count": 159,
   "id": "7207071c-80bf-4aba-9ec2-fa9ad57406a7",
   "metadata": {},
   "outputs": [
    {
     "data": {
      "text/html": [
       "<table class=\"dataframe\">\n",
       "<caption>A data.frame: 6 × 8</caption>\n",
       "<thead>\n",
       "\t<tr><th></th><th scope=col>Name</th><th scope=col>Stamina</th><th scope=col>Jumping</th><th scope=col>Agility</th><th scope=col>BallControl</th><th scope=col>Finishing</th><th scope=col>Vision</th><th scope=col>Aggression</th></tr>\n",
       "\t<tr><th></th><th scope=col>&lt;chr&gt;</th><th scope=col>&lt;int&gt;</th><th scope=col>&lt;int&gt;</th><th scope=col>&lt;int&gt;</th><th scope=col>&lt;int&gt;</th><th scope=col>&lt;int&gt;</th><th scope=col>&lt;int&gt;</th><th scope=col>&lt;int&gt;</th></tr>\n",
       "</thead>\n",
       "<tbody>\n",
       "\t<tr><th scope=row>1</th><td>max              </td><td>100</td><td>100</td><td>100</td><td>100</td><td>100</td><td>100</td><td>100</td></tr>\n",
       "\t<tr><th scope=row>2</th><td>min              </td><td>  0</td><td>  0</td><td>  0</td><td>  0</td><td>  0</td><td>  0</td><td>  0</td></tr>\n",
       "\t<tr><th scope=row>3</th><td>L. Messi         </td><td> 72</td><td> 68</td><td> 91</td><td> 96</td><td> 95</td><td> 94</td><td> 48</td></tr>\n",
       "\t<tr><th scope=row>4</th><td>Cristiano Ronaldo</td><td> 88</td><td> 95</td><td> 87</td><td> 94</td><td> 94</td><td> 82</td><td> 63</td></tr>\n",
       "\t<tr><th scope=row>5</th><td>Neymar Jr        </td><td> 81</td><td> 61</td><td> 96</td><td> 95</td><td> 87</td><td> 87</td><td> 56</td></tr>\n",
       "\t<tr><th scope=row>6</th><td>De Gea           </td><td> 43</td><td> 67</td><td> 60</td><td> 42</td><td> 13</td><td> 68</td><td> 38</td></tr>\n",
       "</tbody>\n",
       "</table>\n"
      ],
      "text/latex": [
       "A data.frame: 6 × 8\n",
       "\\begin{tabular}{r|llllllll}\n",
       "  & Name & Stamina & Jumping & Agility & BallControl & Finishing & Vision & Aggression\\\\\n",
       "  & <chr> & <int> & <int> & <int> & <int> & <int> & <int> & <int>\\\\\n",
       "\\hline\n",
       "\t1 & max               & 100 & 100 & 100 & 100 & 100 & 100 & 100\\\\\n",
       "\t2 & min               &   0 &   0 &   0 &   0 &   0 &   0 &   0\\\\\n",
       "\t3 & L. Messi          &  72 &  68 &  91 &  96 &  95 &  94 &  48\\\\\n",
       "\t4 & Cristiano Ronaldo &  88 &  95 &  87 &  94 &  94 &  82 &  63\\\\\n",
       "\t5 & Neymar Jr         &  81 &  61 &  96 &  95 &  87 &  87 &  56\\\\\n",
       "\t6 & De Gea            &  43 &  67 &  60 &  42 &  13 &  68 &  38\\\\\n",
       "\\end{tabular}\n"
      ],
      "text/markdown": [
       "\n",
       "A data.frame: 6 × 8\n",
       "\n",
       "| <!--/--> | Name &lt;chr&gt; | Stamina &lt;int&gt; | Jumping &lt;int&gt; | Agility &lt;int&gt; | BallControl &lt;int&gt; | Finishing &lt;int&gt; | Vision &lt;int&gt; | Aggression &lt;int&gt; |\n",
       "|---|---|---|---|---|---|---|---|---|\n",
       "| 1 | max               | 100 | 100 | 100 | 100 | 100 | 100 | 100 |\n",
       "| 2 | min               |   0 |   0 |   0 |   0 |   0 |   0 |   0 |\n",
       "| 3 | L. Messi          |  72 |  68 |  91 |  96 |  95 |  94 |  48 |\n",
       "| 4 | Cristiano Ronaldo |  88 |  95 |  87 |  94 |  94 |  82 |  63 |\n",
       "| 5 | Neymar Jr         |  81 |  61 |  96 |  95 |  87 |  87 |  56 |\n",
       "| 6 | De Gea            |  43 |  67 |  60 |  42 |  13 |  68 |  38 |\n",
       "\n"
      ],
      "text/plain": [
       "  Name              Stamina Jumping Agility BallControl Finishing Vision\n",
       "1 max               100     100     100     100         100       100   \n",
       "2 min                 0       0       0       0           0         0   \n",
       "3 L. Messi           72      68      91      96          95        94   \n",
       "4 Cristiano Ronaldo  88      95      87      94          94        82   \n",
       "5 Neymar Jr          81      61      96      95          87        87   \n",
       "6 De Gea             43      67      60      42          13        68   \n",
       "  Aggression\n",
       "1 100       \n",
       "2   0       \n",
       "3  48       \n",
       "4  63       \n",
       "5  56       \n",
       "6  38       "
      ]
     },
     "metadata": {},
     "output_type": "display_data"
    }
   ],
   "source": [
    "head(fif)"
   ]
  },
  {
   "cell_type": "code",
   "execution_count": 188,
   "id": "91347491-c5bd-4b6b-bee7-e6e29ebeceb7",
   "metadata": {},
   "outputs": [],
   "source": [
    "fif3 <- fif |> filter(Name %in% c(\"max\", \"min\",\"K. Benzema\", \"D. Rojas\",\"Iniesta\")) \n",
    "# |>     select(Stamina, Jumping, Agility, BallControl, Finishing, Vision, Aggression)"
   ]
  },
  {
   "cell_type": "code",
   "execution_count": 189,
   "id": "24ad9139-4763-462a-b454-61be958dc5d7",
   "metadata": {},
   "outputs": [
    {
     "data": {
      "text/html": [
       "<table class=\"dataframe\">\n",
       "<caption>A data.frame: 5 × 8</caption>\n",
       "<thead>\n",
       "\t<tr><th scope=col>Name</th><th scope=col>Stamina</th><th scope=col>Jumping</th><th scope=col>Agility</th><th scope=col>BallControl</th><th scope=col>Finishing</th><th scope=col>Vision</th><th scope=col>Aggression</th></tr>\n",
       "\t<tr><th scope=col>&lt;chr&gt;</th><th scope=col>&lt;int&gt;</th><th scope=col>&lt;int&gt;</th><th scope=col>&lt;int&gt;</th><th scope=col>&lt;int&gt;</th><th scope=col>&lt;int&gt;</th><th scope=col>&lt;int&gt;</th><th scope=col>&lt;int&gt;</th></tr>\n",
       "</thead>\n",
       "<tbody>\n",
       "\t<tr><td>max       </td><td>100</td><td>100</td><td>100</td><td>100</td><td>100</td><td>100</td><td>100</td></tr>\n",
       "\t<tr><td>min       </td><td>  0</td><td>  0</td><td>  0</td><td>  0</td><td>  0</td><td>  0</td><td>  0</td></tr>\n",
       "\t<tr><td>Iniesta   </td><td> 55</td><td> 47</td><td> 79</td><td> 92</td><td> 70</td><td> 93</td><td> 58</td></tr>\n",
       "\t<tr><td>K. Benzema</td><td> 75</td><td> 73</td><td> 76</td><td> 86</td><td> 81</td><td> 85</td><td> 65</td></tr>\n",
       "\t<tr><td>D. Rojas  </td><td> 70</td><td> 31</td><td> 78</td><td> 71</td><td> 67</td><td> 72</td><td> 44</td></tr>\n",
       "</tbody>\n",
       "</table>\n"
      ],
      "text/latex": [
       "A data.frame: 5 × 8\n",
       "\\begin{tabular}{llllllll}\n",
       " Name & Stamina & Jumping & Agility & BallControl & Finishing & Vision & Aggression\\\\\n",
       " <chr> & <int> & <int> & <int> & <int> & <int> & <int> & <int>\\\\\n",
       "\\hline\n",
       "\t max        & 100 & 100 & 100 & 100 & 100 & 100 & 100\\\\\n",
       "\t min        &   0 &   0 &   0 &   0 &   0 &   0 &   0\\\\\n",
       "\t Iniesta    &  55 &  47 &  79 &  92 &  70 &  93 &  58\\\\\n",
       "\t K. Benzema &  75 &  73 &  76 &  86 &  81 &  85 &  65\\\\\n",
       "\t D. Rojas   &  70 &  31 &  78 &  71 &  67 &  72 &  44\\\\\n",
       "\\end{tabular}\n"
      ],
      "text/markdown": [
       "\n",
       "A data.frame: 5 × 8\n",
       "\n",
       "| Name &lt;chr&gt; | Stamina &lt;int&gt; | Jumping &lt;int&gt; | Agility &lt;int&gt; | BallControl &lt;int&gt; | Finishing &lt;int&gt; | Vision &lt;int&gt; | Aggression &lt;int&gt; |\n",
       "|---|---|---|---|---|---|---|---|\n",
       "| max        | 100 | 100 | 100 | 100 | 100 | 100 | 100 |\n",
       "| min        |   0 |   0 |   0 |   0 |   0 |   0 |   0 |\n",
       "| Iniesta    |  55 |  47 |  79 |  92 |  70 |  93 |  58 |\n",
       "| K. Benzema |  75 |  73 |  76 |  86 |  81 |  85 |  65 |\n",
       "| D. Rojas   |  70 |  31 |  78 |  71 |  67 |  72 |  44 |\n",
       "\n"
      ],
      "text/plain": [
       "  Name       Stamina Jumping Agility BallControl Finishing Vision Aggression\n",
       "1 max        100     100     100     100         100       100    100       \n",
       "2 min          0       0       0       0           0         0      0       \n",
       "3 Iniesta     55      47      79      92          70        93     58       \n",
       "4 K. Benzema  75      73      76      86          81        85     65       \n",
       "5 D. Rojas    70      31      78      71          67        72     44       "
      ]
     },
     "metadata": {},
     "output_type": "display_data"
    }
   ],
   "source": [
    "fif3"
   ]
  },
  {
   "cell_type": "code",
   "execution_count": 204,
   "id": "73dee2a8-7926-403b-a058-33948337a4bf",
   "metadata": {},
   "outputs": [
    {
     "data": {
      "image/png": "[encoded data removed]",
      "text/plain": [
       "Plot with title \"\""
      ]
     },
     "metadata": {
      "image/png": {
       "height": 420,
       "width": 420
      }
     },
     "output_type": "display_data"
    }
   ],
   "source": [
    "# png(\"imagenes/radar.png\")\n",
    "radarchart(fif3[,2:8], pcol=a , pfcol=b , plwd=4 , plty=1)\n",
    "legend(\"topright\", legend = fif3[-c(1,2),]$Name, bty = \"n\", pch=20 , col=b\n",
    "       , text.col = \"grey\", cex=1.2, pt.cex=3)\n",
    "# dev.off()"
   ]
  },
  {
   "cell_type": "code",
   "execution_count": null,
   "id": "abca3227-579e-4ce9-a13e-097ac230c9b1",
   "metadata": {},
   "outputs": [],
   "source": []
  }
 ],
 "metadata": {
  "kernelspec": {
   "display_name": "R",
   "language": "R",
   "name": "ir"
  },
  "language_info": {
   "codemirror_mode": "r",
   "file_extension": ".r",
   "mimetype": "text/x-r-source",
   "name": "R",
   "pygments_lexer": "r",
   "version": "4.1.3"
  }
 },
 "nbformat": 4,
 "nbformat_minor": 5
}
