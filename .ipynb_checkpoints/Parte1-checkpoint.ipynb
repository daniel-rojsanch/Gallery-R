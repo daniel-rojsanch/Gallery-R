{
 "cells": [
  {
   "cell_type": "code",
   "execution_count": 1,
   "id": "d50412c7-019e-417a-b4dd-eedcccabc3a2",
   "metadata": {},
   "outputs": [],
   "source": [
    "# Violin chart"
   ]
  },
  {
   "cell_type": "code",
   "execution_count": 2,
   "id": "2a49bb0f-95ad-4352-8fb6-98a76fc739b4",
   "metadata": {},
   "outputs": [],
   "source": [
    "# Vamos a tomar el conjunto de datos de aqui \n",
    "# fifa <- read.csv(\"https://raw.githubusercontent.com/sharmaroshan/FIFA-2019-Analysis/master/Footballer.csv\")"
   ]
  },
  {
   "cell_type": "code",
   "execution_count": 3,
   "id": "cf8a594e-0464-4ea5-ad49-97b59eba8239",
   "metadata": {},
   "outputs": [],
   "source": [
    "# si gustan lo podemos tener\n",
    "# write.csv(fifa, file = 'data/fifa.csv')"
   ]
  },
  {
   "cell_type": "code",
   "execution_count": 5,
   "id": "f9b86801-6a61-4a4a-b21a-5ddaaf34d3d3",
   "metadata": {},
   "outputs": [
    {
     "data": {
      "text/html": [
       "<table class=\"dataframe\">\n",
       "<caption>A data.frame: 6 × 90</caption>\n",
       "<thead>\n",
       "\t<tr><th></th><th scope=col>X</th><th scope=col>ï..</th><th scope=col>ID</th><th scope=col>Name</th><th scope=col>Age</th><th scope=col>Photo</th><th scope=col>Nationality</th><th scope=col>Flag</th><th scope=col>Overall</th><th scope=col>Potential</th><th scope=col>...</th><th scope=col>Composure</th><th scope=col>Marking</th><th scope=col>StandingTackle</th><th scope=col>SlidingTackle</th><th scope=col>GKDiving</th><th scope=col>GKHandling</th><th scope=col>GKKicking</th><th scope=col>GKPositioning</th><th scope=col>GKReflexes</th><th scope=col>Release.Clause</th></tr>\n",
       "\t<tr><th></th><th scope=col>&lt;int&gt;</th><th scope=col>&lt;int&gt;</th><th scope=col>&lt;int&gt;</th><th scope=col>&lt;chr&gt;</th><th scope=col>&lt;int&gt;</th><th scope=col>&lt;chr&gt;</th><th scope=col>&lt;chr&gt;</th><th scope=col>&lt;chr&gt;</th><th scope=col>&lt;int&gt;</th><th scope=col>&lt;int&gt;</th><th scope=col>...</th><th scope=col>&lt;int&gt;</th><th scope=col>&lt;int&gt;</th><th scope=col>&lt;int&gt;</th><th scope=col>&lt;int&gt;</th><th scope=col>&lt;int&gt;</th><th scope=col>&lt;int&gt;</th><th scope=col>&lt;int&gt;</th><th scope=col>&lt;int&gt;</th><th scope=col>&lt;int&gt;</th><th scope=col>&lt;chr&gt;</th></tr>\n",
       "</thead>\n",
       "<tbody>\n",
       "\t<tr><th scope=row>1</th><td>1</td><td>0</td><td>158023</td><td>L. Messi         </td><td>31</td><td>https://cdn.sofifa.org/players/4/19/158023.png</td><td>Argentina</td><td>https://cdn.sofifa.org/flags/52.png</td><td>94</td><td>94</td><td>...</td><td>96</td><td>33</td><td>28</td><td>26</td><td> 6</td><td>11</td><td>15</td><td>14</td><td> 8</td><td>â‚¬226.5M</td></tr>\n",
       "\t<tr><th scope=row>2</th><td>2</td><td>1</td><td> 20801</td><td>Cristiano Ronaldo</td><td>33</td><td>https://cdn.sofifa.org/players/4/19/20801.png </td><td>Portugal </td><td>https://cdn.sofifa.org/flags/38.png</td><td>94</td><td>94</td><td>...</td><td>95</td><td>28</td><td>31</td><td>23</td><td> 7</td><td>11</td><td>15</td><td>14</td><td>11</td><td>â‚¬127.1M</td></tr>\n",
       "\t<tr><th scope=row>3</th><td>3</td><td>2</td><td>190871</td><td>Neymar Jr        </td><td>26</td><td>https://cdn.sofifa.org/players/4/19/190871.png</td><td>Brazil   </td><td>https://cdn.sofifa.org/flags/54.png</td><td>92</td><td>93</td><td>...</td><td>94</td><td>27</td><td>24</td><td>33</td><td> 9</td><td> 9</td><td>15</td><td>15</td><td>11</td><td>â‚¬228.1M</td></tr>\n",
       "\t<tr><th scope=row>4</th><td>4</td><td>3</td><td>193080</td><td>De Gea           </td><td>27</td><td>https://cdn.sofifa.org/players/4/19/193080.png</td><td>Spain    </td><td>https://cdn.sofifa.org/flags/45.png</td><td>91</td><td>93</td><td>...</td><td>68</td><td>15</td><td>21</td><td>13</td><td>90</td><td>85</td><td>87</td><td>88</td><td>94</td><td>â‚¬138.6M</td></tr>\n",
       "\t<tr><th scope=row>5</th><td>5</td><td>4</td><td>192985</td><td>K. De Bruyne     </td><td>27</td><td>https://cdn.sofifa.org/players/4/19/192985.png</td><td>Belgium  </td><td>https://cdn.sofifa.org/flags/7.png </td><td>91</td><td>92</td><td>...</td><td>88</td><td>68</td><td>58</td><td>51</td><td>15</td><td>13</td><td> 5</td><td>10</td><td>13</td><td>â‚¬196.4M</td></tr>\n",
       "\t<tr><th scope=row>6</th><td>6</td><td>5</td><td>183277</td><td>E. Hazard        </td><td>27</td><td>https://cdn.sofifa.org/players/4/19/183277.png</td><td>Belgium  </td><td>https://cdn.sofifa.org/flags/7.png </td><td>91</td><td>91</td><td>...</td><td>91</td><td>34</td><td>27</td><td>22</td><td>11</td><td>12</td><td> 6</td><td> 8</td><td> 8</td><td>â‚¬172.1M</td></tr>\n",
       "</tbody>\n",
       "</table>\n"
      ],
      "text/latex": [
       "A data.frame: 6 × 90\n",
       "\\begin{tabular}{r|lllllllllllllllllllll}\n",
       "  & X & ï.. & ID & Name & Age & Photo & Nationality & Flag & Overall & Potential & ... & Composure & Marking & StandingTackle & SlidingTackle & GKDiving & GKHandling & GKKicking & GKPositioning & GKReflexes & Release.Clause\\\\\n",
       "  & <int> & <int> & <int> & <chr> & <int> & <chr> & <chr> & <chr> & <int> & <int> & ... & <int> & <int> & <int> & <int> & <int> & <int> & <int> & <int> & <int> & <chr>\\\\\n",
       "\\hline\n",
       "\t1 & 1 & 0 & 158023 & L. Messi          & 31 & https://cdn.sofifa.org/players/4/19/158023.png & Argentina & https://cdn.sofifa.org/flags/52.png & 94 & 94 & ... & 96 & 33 & 28 & 26 &  6 & 11 & 15 & 14 &  8 & â‚¬226.5M\\\\\n",
       "\t2 & 2 & 1 &  20801 & Cristiano Ronaldo & 33 & https://cdn.sofifa.org/players/4/19/20801.png  & Portugal  & https://cdn.sofifa.org/flags/38.png & 94 & 94 & ... & 95 & 28 & 31 & 23 &  7 & 11 & 15 & 14 & 11 & â‚¬127.1M\\\\\n",
       "\t3 & 3 & 2 & 190871 & Neymar Jr         & 26 & https://cdn.sofifa.org/players/4/19/190871.png & Brazil    & https://cdn.sofifa.org/flags/54.png & 92 & 93 & ... & 94 & 27 & 24 & 33 &  9 &  9 & 15 & 15 & 11 & â‚¬228.1M\\\\\n",
       "\t4 & 4 & 3 & 193080 & De Gea            & 27 & https://cdn.sofifa.org/players/4/19/193080.png & Spain     & https://cdn.sofifa.org/flags/45.png & 91 & 93 & ... & 68 & 15 & 21 & 13 & 90 & 85 & 87 & 88 & 94 & â‚¬138.6M\\\\\n",
       "\t5 & 5 & 4 & 192985 & K. De Bruyne      & 27 & https://cdn.sofifa.org/players/4/19/192985.png & Belgium   & https://cdn.sofifa.org/flags/7.png  & 91 & 92 & ... & 88 & 68 & 58 & 51 & 15 & 13 &  5 & 10 & 13 & â‚¬196.4M\\\\\n",
       "\t6 & 6 & 5 & 183277 & E. Hazard         & 27 & https://cdn.sofifa.org/players/4/19/183277.png & Belgium   & https://cdn.sofifa.org/flags/7.png  & 91 & 91 & ... & 91 & 34 & 27 & 22 & 11 & 12 &  6 &  8 &  8 & â‚¬172.1M\\\\\n",
       "\\end{tabular}\n"
      ],
      "text/markdown": [
       "\n",
       "A data.frame: 6 × 90\n",
       "\n",
       "| <!--/--> | X &lt;int&gt; | ï.. &lt;int&gt; | ID &lt;int&gt; | Name &lt;chr&gt; | Age &lt;int&gt; | Photo &lt;chr&gt; | Nationality &lt;chr&gt; | Flag &lt;chr&gt; | Overall &lt;int&gt; | Potential &lt;int&gt; | ... ... | Composure &lt;int&gt; | Marking &lt;int&gt; | StandingTackle &lt;int&gt; | SlidingTackle &lt;int&gt; | GKDiving &lt;int&gt; | GKHandling &lt;int&gt; | GKKicking &lt;int&gt; | GKPositioning &lt;int&gt; | GKReflexes &lt;int&gt; | Release.Clause &lt;chr&gt; |\n",
       "|---|---|---|---|---|---|---|---|---|---|---|---|---|---|---|---|---|---|---|---|---|---|\n",
       "| 1 | 1 | 0 | 158023 | L. Messi          | 31 | https://cdn.sofifa.org/players/4/19/158023.png | Argentina | https://cdn.sofifa.org/flags/52.png | 94 | 94 | ... | 96 | 33 | 28 | 26 |  6 | 11 | 15 | 14 |  8 | â‚¬226.5M |\n",
       "| 2 | 2 | 1 |  20801 | Cristiano Ronaldo | 33 | https://cdn.sofifa.org/players/4/19/20801.png  | Portugal  | https://cdn.sofifa.org/flags/38.png | 94 | 94 | ... | 95 | 28 | 31 | 23 |  7 | 11 | 15 | 14 | 11 | â‚¬127.1M |\n",
       "| 3 | 3 | 2 | 190871 | Neymar Jr         | 26 | https://cdn.sofifa.org/players/4/19/190871.png | Brazil    | https://cdn.sofifa.org/flags/54.png | 92 | 93 | ... | 94 | 27 | 24 | 33 |  9 |  9 | 15 | 15 | 11 | â‚¬228.1M |\n",
       "| 4 | 4 | 3 | 193080 | De Gea            | 27 | https://cdn.sofifa.org/players/4/19/193080.png | Spain     | https://cdn.sofifa.org/flags/45.png | 91 | 93 | ... | 68 | 15 | 21 | 13 | 90 | 85 | 87 | 88 | 94 | â‚¬138.6M |\n",
       "| 5 | 5 | 4 | 192985 | K. De Bruyne      | 27 | https://cdn.sofifa.org/players/4/19/192985.png | Belgium   | https://cdn.sofifa.org/flags/7.png  | 91 | 92 | ... | 88 | 68 | 58 | 51 | 15 | 13 |  5 | 10 | 13 | â‚¬196.4M |\n",
       "| 6 | 6 | 5 | 183277 | E. Hazard         | 27 | https://cdn.sofifa.org/players/4/19/183277.png | Belgium   | https://cdn.sofifa.org/flags/7.png  | 91 | 91 | ... | 91 | 34 | 27 | 22 | 11 | 12 |  6 |  8 |  8 | â‚¬172.1M |\n",
       "\n"
      ],
      "text/plain": [
       "  X ï.. ID     Name              Age\n",
       "1 1 0   158023 L. Messi          31 \n",
       "2 2 1    20801 Cristiano Ronaldo 33 \n",
       "3 3 2   190871 Neymar Jr         26 \n",
       "4 4 3   193080 De Gea            27 \n",
       "5 5 4   192985 K. De Bruyne      27 \n",
       "6 6 5   183277 E. Hazard         27 \n",
       "  Photo                                          Nationality\n",
       "1 https://cdn.sofifa.org/players/4/19/158023.png Argentina  \n",
       "2 https://cdn.sofifa.org/players/4/19/20801.png  Portugal   \n",
       "3 https://cdn.sofifa.org/players/4/19/190871.png Brazil     \n",
       "4 https://cdn.sofifa.org/players/4/19/193080.png Spain      \n",
       "5 https://cdn.sofifa.org/players/4/19/192985.png Belgium    \n",
       "6 https://cdn.sofifa.org/players/4/19/183277.png Belgium    \n",
       "  Flag                                Overall Potential ... Composure Marking\n",
       "1 https://cdn.sofifa.org/flags/52.png 94      94        ... 96        33     \n",
       "2 https://cdn.sofifa.org/flags/38.png 94      94        ... 95        28     \n",
       "3 https://cdn.sofifa.org/flags/54.png 92      93        ... 94        27     \n",
       "4 https://cdn.sofifa.org/flags/45.png 91      93        ... 68        15     \n",
       "5 https://cdn.sofifa.org/flags/7.png  91      92        ... 88        68     \n",
       "6 https://cdn.sofifa.org/flags/7.png  91      91        ... 91        34     \n",
       "  StandingTackle SlidingTackle GKDiving GKHandling GKKicking GKPositioning\n",
       "1 28             26             6       11         15        14           \n",
       "2 31             23             7       11         15        14           \n",
       "3 24             33             9        9         15        15           \n",
       "4 21             13            90       85         87        88           \n",
       "5 58             51            15       13          5        10           \n",
       "6 27             22            11       12          6         8           \n",
       "  GKReflexes Release.Clause\n",
       "1  8         â‚¬226.5M     \n",
       "2 11         â‚¬127.1M     \n",
       "3 11         â‚¬228.1M     \n",
       "4 94         â‚¬138.6M     \n",
       "5 13         â‚¬196.4M     \n",
       "6  8         â‚¬172.1M     "
      ]
     },
     "metadata": {},
     "output_type": "display_data"
    }
   ],
   "source": [
    "## Exploramos que tiene, son valores de diferentes jugadores de futbol como potencial, agilidad, velociadad, etc\n",
    "fifa <- read.csv(file = \"data/fifa.csv\")\n",
    "head(fifa)"
   ]
  },
  {
   "cell_type": "code",
   "execution_count": 6,
   "id": "424fe20b-7823-4df7-845e-6052f473dc92",
   "metadata": {},
   "outputs": [
    {
     "data": {
      "text/html": [
       "<style>\n",
       ".list-inline {list-style: none; margin:0; padding: 0}\n",
       ".list-inline>li {display: inline-block}\n",
       ".list-inline>li:not(:last-child)::after {content: \"\\00b7\"; padding: 0 .5ex}\n",
       "</style>\n",
       "<ol class=list-inline><li>'X'</li><li>'ï..'</li><li>'ID'</li><li>'Name'</li><li>'Age'</li><li>'Photo'</li><li>'Nationality'</li><li>'Flag'</li><li>'Overall'</li><li>'Potential'</li><li>'Club'</li><li>'Club.Logo'</li><li>'Value'</li><li>'Wage'</li><li>'Special'</li><li>'Preferred.Foot'</li><li>'International.Reputation'</li><li>'Weak.Foot'</li><li>'Skill.Moves'</li><li>'Work.Rate'</li><li>'Body.Type'</li><li>'Real.Face'</li><li>'Position'</li><li>'Jersey.Number'</li><li>'Joined'</li><li>'Loaned.From'</li><li>'Contract.Valid.Until'</li><li>'Height'</li><li>'Weight'</li><li>'LS'</li><li>'ST'</li><li>'RS'</li><li>'LW'</li><li>'LF'</li><li>'CF'</li><li>'RF'</li><li>'RW'</li><li>'LAM'</li><li>'CAM'</li><li>'RAM'</li><li>'LM'</li><li>'LCM'</li><li>'CM'</li><li>'RCM'</li><li>'RM'</li><li>'LWB'</li><li>'LDM'</li><li>'CDM'</li><li>'RDM'</li><li>'RWB'</li><li>'LB'</li><li>'LCB'</li><li>'CB'</li><li>'RCB'</li><li>'RB'</li><li>'Crossing'</li><li>'Finishing'</li><li>'HeadingAccuracy'</li><li>'ShortPassing'</li><li>'Volleys'</li><li>'Dribbling'</li><li>'Curve'</li><li>'FKAccuracy'</li><li>'LongPassing'</li><li>'BallControl'</li><li>'Acceleration'</li><li>'SprintSpeed'</li><li>'Agility'</li><li>'Reactions'</li><li>'Balance'</li><li>'ShotPower'</li><li>'Jumping'</li><li>'Stamina'</li><li>'Strength'</li><li>'LongShots'</li><li>'Aggression'</li><li>'Interceptions'</li><li>'Positioning'</li><li>'Vision'</li><li>'Penalties'</li><li>'Composure'</li><li>'Marking'</li><li>'StandingTackle'</li><li>'SlidingTackle'</li><li>'GKDiving'</li><li>'GKHandling'</li><li>'GKKicking'</li><li>'GKPositioning'</li><li>'GKReflexes'</li><li>'Release.Clause'</li></ol>\n"
      ],
      "text/latex": [
       "\\begin{enumerate*}\n",
       "\\item 'X'\n",
       "\\item 'ï..'\n",
       "\\item 'ID'\n",
       "\\item 'Name'\n",
       "\\item 'Age'\n",
       "\\item 'Photo'\n",
       "\\item 'Nationality'\n",
       "\\item 'Flag'\n",
       "\\item 'Overall'\n",
       "\\item 'Potential'\n",
       "\\item 'Club'\n",
       "\\item 'Club.Logo'\n",
       "\\item 'Value'\n",
       "\\item 'Wage'\n",
       "\\item 'Special'\n",
       "\\item 'Preferred.Foot'\n",
       "\\item 'International.Reputation'\n",
       "\\item 'Weak.Foot'\n",
       "\\item 'Skill.Moves'\n",
       "\\item 'Work.Rate'\n",
       "\\item 'Body.Type'\n",
       "\\item 'Real.Face'\n",
       "\\item 'Position'\n",
       "\\item 'Jersey.Number'\n",
       "\\item 'Joined'\n",
       "\\item 'Loaned.From'\n",
       "\\item 'Contract.Valid.Until'\n",
       "\\item 'Height'\n",
       "\\item 'Weight'\n",
       "\\item 'LS'\n",
       "\\item 'ST'\n",
       "\\item 'RS'\n",
       "\\item 'LW'\n",
       "\\item 'LF'\n",
       "\\item 'CF'\n",
       "\\item 'RF'\n",
       "\\item 'RW'\n",
       "\\item 'LAM'\n",
       "\\item 'CAM'\n",
       "\\item 'RAM'\n",
       "\\item 'LM'\n",
       "\\item 'LCM'\n",
       "\\item 'CM'\n",
       "\\item 'RCM'\n",
       "\\item 'RM'\n",
       "\\item 'LWB'\n",
       "\\item 'LDM'\n",
       "\\item 'CDM'\n",
       "\\item 'RDM'\n",
       "\\item 'RWB'\n",
       "\\item 'LB'\n",
       "\\item 'LCB'\n",
       "\\item 'CB'\n",
       "\\item 'RCB'\n",
       "\\item 'RB'\n",
       "\\item 'Crossing'\n",
       "\\item 'Finishing'\n",
       "\\item 'HeadingAccuracy'\n",
       "\\item 'ShortPassing'\n",
       "\\item 'Volleys'\n",
       "\\item 'Dribbling'\n",
       "\\item 'Curve'\n",
       "\\item 'FKAccuracy'\n",
       "\\item 'LongPassing'\n",
       "\\item 'BallControl'\n",
       "\\item 'Acceleration'\n",
       "\\item 'SprintSpeed'\n",
       "\\item 'Agility'\n",
       "\\item 'Reactions'\n",
       "\\item 'Balance'\n",
       "\\item 'ShotPower'\n",
       "\\item 'Jumping'\n",
       "\\item 'Stamina'\n",
       "\\item 'Strength'\n",
       "\\item 'LongShots'\n",
       "\\item 'Aggression'\n",
       "\\item 'Interceptions'\n",
       "\\item 'Positioning'\n",
       "\\item 'Vision'\n",
       "\\item 'Penalties'\n",
       "\\item 'Composure'\n",
       "\\item 'Marking'\n",
       "\\item 'StandingTackle'\n",
       "\\item 'SlidingTackle'\n",
       "\\item 'GKDiving'\n",
       "\\item 'GKHandling'\n",
       "\\item 'GKKicking'\n",
       "\\item 'GKPositioning'\n",
       "\\item 'GKReflexes'\n",
       "\\item 'Release.Clause'\n",
       "\\end{enumerate*}\n"
      ],
      "text/markdown": [
       "1. 'X'\n",
       "2. 'ï..'\n",
       "3. 'ID'\n",
       "4. 'Name'\n",
       "5. 'Age'\n",
       "6. 'Photo'\n",
       "7. 'Nationality'\n",
       "8. 'Flag'\n",
       "9. 'Overall'\n",
       "10. 'Potential'\n",
       "11. 'Club'\n",
       "12. 'Club.Logo'\n",
       "13. 'Value'\n",
       "14. 'Wage'\n",
       "15. 'Special'\n",
       "16. 'Preferred.Foot'\n",
       "17. 'International.Reputation'\n",
       "18. 'Weak.Foot'\n",
       "19. 'Skill.Moves'\n",
       "20. 'Work.Rate'\n",
       "21. 'Body.Type'\n",
       "22. 'Real.Face'\n",
       "23. 'Position'\n",
       "24. 'Jersey.Number'\n",
       "25. 'Joined'\n",
       "26. 'Loaned.From'\n",
       "27. 'Contract.Valid.Until'\n",
       "28. 'Height'\n",
       "29. 'Weight'\n",
       "30. 'LS'\n",
       "31. 'ST'\n",
       "32. 'RS'\n",
       "33. 'LW'\n",
       "34. 'LF'\n",
       "35. 'CF'\n",
       "36. 'RF'\n",
       "37. 'RW'\n",
       "38. 'LAM'\n",
       "39. 'CAM'\n",
       "40. 'RAM'\n",
       "41. 'LM'\n",
       "42. 'LCM'\n",
       "43. 'CM'\n",
       "44. 'RCM'\n",
       "45. 'RM'\n",
       "46. 'LWB'\n",
       "47. 'LDM'\n",
       "48. 'CDM'\n",
       "49. 'RDM'\n",
       "50. 'RWB'\n",
       "51. 'LB'\n",
       "52. 'LCB'\n",
       "53. 'CB'\n",
       "54. 'RCB'\n",
       "55. 'RB'\n",
       "56. 'Crossing'\n",
       "57. 'Finishing'\n",
       "58. 'HeadingAccuracy'\n",
       "59. 'ShortPassing'\n",
       "60. 'Volleys'\n",
       "61. 'Dribbling'\n",
       "62. 'Curve'\n",
       "63. 'FKAccuracy'\n",
       "64. 'LongPassing'\n",
       "65. 'BallControl'\n",
       "66. 'Acceleration'\n",
       "67. 'SprintSpeed'\n",
       "68. 'Agility'\n",
       "69. 'Reactions'\n",
       "70. 'Balance'\n",
       "71. 'ShotPower'\n",
       "72. 'Jumping'\n",
       "73. 'Stamina'\n",
       "74. 'Strength'\n",
       "75. 'LongShots'\n",
       "76. 'Aggression'\n",
       "77. 'Interceptions'\n",
       "78. 'Positioning'\n",
       "79. 'Vision'\n",
       "80. 'Penalties'\n",
       "81. 'Composure'\n",
       "82. 'Marking'\n",
       "83. 'StandingTackle'\n",
       "84. 'SlidingTackle'\n",
       "85. 'GKDiving'\n",
       "86. 'GKHandling'\n",
       "87. 'GKKicking'\n",
       "88. 'GKPositioning'\n",
       "89. 'GKReflexes'\n",
       "90. 'Release.Clause'\n",
       "\n",
       "\n"
      ],
      "text/plain": [
       " [1] \"X\"                        \"ï..\"                     \n",
       " [3] \"ID\"                       \"Name\"                    \n",
       " [5] \"Age\"                      \"Photo\"                   \n",
       " [7] \"Nationality\"              \"Flag\"                    \n",
       " [9] \"Overall\"                  \"Potential\"               \n",
       "[11] \"Club\"                     \"Club.Logo\"               \n",
       "[13] \"Value\"                    \"Wage\"                    \n",
       "[15] \"Special\"                  \"Preferred.Foot\"          \n",
       "[17] \"International.Reputation\" \"Weak.Foot\"               \n",
       "[19] \"Skill.Moves\"              \"Work.Rate\"               \n",
       "[21] \"Body.Type\"                \"Real.Face\"               \n",
       "[23] \"Position\"                 \"Jersey.Number\"           \n",
       "[25] \"Joined\"                   \"Loaned.From\"             \n",
       "[27] \"Contract.Valid.Until\"     \"Height\"                  \n",
       "[29] \"Weight\"                   \"LS\"                      \n",
       "[31] \"ST\"                       \"RS\"                      \n",
       "[33] \"LW\"                       \"LF\"                      \n",
       "[35] \"CF\"                       \"RF\"                      \n",
       "[37] \"RW\"                       \"LAM\"                     \n",
       "[39] \"CAM\"                      \"RAM\"                     \n",
       "[41] \"LM\"                       \"LCM\"                     \n",
       "[43] \"CM\"                       \"RCM\"                     \n",
       "[45] \"RM\"                       \"LWB\"                     \n",
       "[47] \"LDM\"                      \"CDM\"                     \n",
       "[49] \"RDM\"                      \"RWB\"                     \n",
       "[51] \"LB\"                       \"LCB\"                     \n",
       "[53] \"CB\"                       \"RCB\"                     \n",
       "[55] \"RB\"                       \"Crossing\"                \n",
       "[57] \"Finishing\"                \"HeadingAccuracy\"         \n",
       "[59] \"ShortPassing\"             \"Volleys\"                 \n",
       "[61] \"Dribbling\"                \"Curve\"                   \n",
       "[63] \"FKAccuracy\"               \"LongPassing\"             \n",
       "[65] \"BallControl\"              \"Acceleration\"            \n",
       "[67] \"SprintSpeed\"              \"Agility\"                 \n",
       "[69] \"Reactions\"                \"Balance\"                 \n",
       "[71] \"ShotPower\"                \"Jumping\"                 \n",
       "[73] \"Stamina\"                  \"Strength\"                \n",
       "[75] \"LongShots\"                \"Aggression\"              \n",
       "[77] \"Interceptions\"            \"Positioning\"             \n",
       "[79] \"Vision\"                   \"Penalties\"               \n",
       "[81] \"Composure\"                \"Marking\"                 \n",
       "[83] \"StandingTackle\"           \"SlidingTackle\"           \n",
       "[85] \"GKDiving\"                 \"GKHandling\"              \n",
       "[87] \"GKKicking\"                \"GKPositioning\"           \n",
       "[89] \"GKReflexes\"               \"Release.Clause\"          "
      ]
     },
     "metadata": {},
     "output_type": "display_data"
    }
   ],
   "source": [
    "colnames(fifa)"
   ]
  },
  {
   "cell_type": "code",
   "execution_count": 7,
   "id": "843bce0e-231e-469b-9283-324f543dfef8",
   "metadata": {},
   "outputs": [
    {
     "name": "stderr",
     "output_type": "stream",
     "text": [
      "\n",
      "Attaching package: 'dplyr'\n",
      "\n",
      "\n",
      "The following objects are masked from 'package:stats':\n",
      "\n",
      "    filter, lag\n",
      "\n",
      "\n",
      "The following objects are masked from 'package:base':\n",
      "\n",
      "    intersect, setdiff, setequal, union\n",
      "\n",
      "\n"
     ]
    }
   ],
   "source": [
    "## Vamos a utilzar algunas librerias del paquete tydyverse\n",
    "\n",
    "library(dplyr)     \n",
    "library(ggplot2)  "
   ]
  },
  {
   "cell_type": "code",
   "execution_count": 8,
   "id": "0316dc84-b4b5-4ed9-ad22-d4781dacf0c3",
   "metadata": {},
   "outputs": [],
   "source": [
    "## la idea es comparar visualmente caracteristicas de los jugadores dependiendo su Nacinalidad\n",
    "## por ejemplo el potencial "
   ]
  },
  {
   "cell_type": "code",
   "execution_count": 9,
   "id": "37e40fa0-11f9-42d9-bfd8-fdee0693f214",
   "metadata": {},
   "outputs": [
    {
     "data": {
      "text/html": [
       "<style>\n",
       ".list-inline {list-style: none; margin:0; padding: 0}\n",
       ".list-inline>li {display: inline-block}\n",
       ".list-inline>li:not(:last-child)::after {content: \"\\00b7\"; padding: 0 .5ex}\n",
       "</style>\n",
       "<ol class=list-inline><li>'Argentina'</li><li>'Portugal'</li><li>'Brazil'</li><li>'Spain'</li><li>'Belgium'</li><li>'Croatia'</li><li>'Uruguay'</li><li>'Slovenia'</li><li>'Poland'</li><li>'Germany'</li><li>'France'</li><li>'England'</li><li>'Italy'</li><li>'Egypt'</li><li>'Colombia'</li><li>'Denmark'</li><li>'Gabon'</li><li>'Wales'</li><li>'Senegal'</li><li>'Costa Rica'</li><li>'Slovakia'</li><li>'Netherlands'</li><li>'Bosnia Herzegovina'</li><li>'Morocco'</li><li>'Serbia'</li><li>'Algeria'</li><li>'Austria'</li><li>'Greece'</li><li>'Chile'</li><li>'Sweden'</li><li>'Korea Republic'</li><li>'Finland'</li><li>'Guinea'</li><li>'Montenegro'</li><li>'Armenia'</li><li>'Switzerland'</li><li>'Norway'</li><li>'Czech Republic'</li><li>'Scotland'</li><li>'Ghana'</li><li>'Central African Rep.'</li><li>'DR Congo'</li><li>'Ivory Coast'</li><li>'Russia'</li><li>'Ukraine'</li><li>'Iceland'</li><li>'Mexico'</li><li>'Jamaica'</li><li>'Albania'</li><li>'Venezuela'</li><li>'Japan'</li><li>'Turkey'</li><li>'Ecuador'</li><li>'Paraguay'</li><li>'Mali'</li><li>'Nigeria'</li><li>'Cameroon'</li><li>'Dominican Republic'</li><li>'Israel'</li><li>'Kenya'</li><li>'Hungary'</li><li>'Republic of Ireland'</li><li>'Romania'</li><li>'United States'</li><li>'Cape Verde'</li><li>'Australia'</li><li>'Peru'</li><li>'Togo'</li><li>'Syria'</li><li>'Zimbabwe'</li><li>'Angola'</li><li>'Burkina Faso'</li><li>'Iran'</li><li>'Estonia'</li><li>'Tunisia'</li><li>'Equatorial Guinea'</li><li>'New Zealand'</li><li>'FYR Macedonia'</li><li>'United Arab Emirates'</li><li>'China PR'</li><li>'Guinea Bissau'</li><li>'Bulgaria'</li><li>'Kosovo'</li><li>'South Africa'</li><li>'Madagascar'</li><li>'Georgia'</li><li>'Tanzania'</li><li>'Gambia'</li><li>'Cuba'</li><li>'Belarus'</li><li>'Uzbekistan'</li><li>'Benin'</li><li>'Congo'</li><li>'Mozambique'</li><li>'Honduras'</li><li>'Canada'</li><li>'Northern Ireland'</li><li>'Cyprus'</li><li>'Saudi Arabia'</li><li>'Curacao'</li><li>'Moldova'</li><li>'Bolivia'</li><li>'Trinidad &amp; Tobago'</li><li>'Sierra Leone'</li><li>'Zambia'</li><li>'Chad'</li><li>'Philippines'</li><li>'Haiti'</li><li>'Comoros'</li><li>'Libya'</li><li>'Panama'</li><li>'SÃ£o TomÃ© &amp; PrÃ­ncipe'</li><li>'Eritrea'</li><li>'Oman'</li><li>'Iraq'</li><li>'Burundi'</li><li>'Fiji'</li><li>'New Caledonia'</li><li>'Lithuania'</li><li>'Luxembourg'</li><li>'Korea DPR'</li><li>'Liechtenstein'</li><li>'St Kitts Nevis'</li><li>'Latvia'</li><li>'Suriname'</li><li>'Uganda'</li><li>'El Salvador'</li><li>'Bermuda'</li><li>'Kuwait'</li><li>'Antigua &amp; Barbuda'</li><li>'Thailand'</li><li>'Mauritius'</li><li>'Guatemala'</li><li>'Liberia'</li><li>'Kazakhstan'</li><li>'Niger'</li><li>'Mauritania'</li><li>'Montserrat'</li><li>'Namibia'</li><li>'Azerbaijan'</li><li>'Guam'</li><li>'Faroe Islands'</li><li>'India'</li><li>'Nicaragua'</li><li>'Barbados'</li><li>'Lebanon'</li><li>'Palestine'</li><li>'Guyana'</li><li>'Sudan'</li><li>'St Lucia'</li><li>'Ethiopia'</li><li>'Puerto Rico'</li><li>'Grenada'</li><li>'Jordan'</li><li>'Rwanda'</li><li>'Qatar'</li><li>'Afghanistan'</li><li>'Hong Kong'</li><li>'Andorra'</li><li>'Malta'</li><li>'Belize'</li><li>'South Sudan'</li><li>'Indonesia'</li><li>'Botswana'</li></ol>\n"
      ],
      "text/latex": [
       "\\begin{enumerate*}\n",
       "\\item 'Argentina'\n",
       "\\item 'Portugal'\n",
       "\\item 'Brazil'\n",
       "\\item 'Spain'\n",
       "\\item 'Belgium'\n",
       "\\item 'Croatia'\n",
       "\\item 'Uruguay'\n",
       "\\item 'Slovenia'\n",
       "\\item 'Poland'\n",
       "\\item 'Germany'\n",
       "\\item 'France'\n",
       "\\item 'England'\n",
       "\\item 'Italy'\n",
       "\\item 'Egypt'\n",
       "\\item 'Colombia'\n",
       "\\item 'Denmark'\n",
       "\\item 'Gabon'\n",
       "\\item 'Wales'\n",
       "\\item 'Senegal'\n",
       "\\item 'Costa Rica'\n",
       "\\item 'Slovakia'\n",
       "\\item 'Netherlands'\n",
       "\\item 'Bosnia Herzegovina'\n",
       "\\item 'Morocco'\n",
       "\\item 'Serbia'\n",
       "\\item 'Algeria'\n",
       "\\item 'Austria'\n",
       "\\item 'Greece'\n",
       "\\item 'Chile'\n",
       "\\item 'Sweden'\n",
       "\\item 'Korea Republic'\n",
       "\\item 'Finland'\n",
       "\\item 'Guinea'\n",
       "\\item 'Montenegro'\n",
       "\\item 'Armenia'\n",
       "\\item 'Switzerland'\n",
       "\\item 'Norway'\n",
       "\\item 'Czech Republic'\n",
       "\\item 'Scotland'\n",
       "\\item 'Ghana'\n",
       "\\item 'Central African Rep.'\n",
       "\\item 'DR Congo'\n",
       "\\item 'Ivory Coast'\n",
       "\\item 'Russia'\n",
       "\\item 'Ukraine'\n",
       "\\item 'Iceland'\n",
       "\\item 'Mexico'\n",
       "\\item 'Jamaica'\n",
       "\\item 'Albania'\n",
       "\\item 'Venezuela'\n",
       "\\item 'Japan'\n",
       "\\item 'Turkey'\n",
       "\\item 'Ecuador'\n",
       "\\item 'Paraguay'\n",
       "\\item 'Mali'\n",
       "\\item 'Nigeria'\n",
       "\\item 'Cameroon'\n",
       "\\item 'Dominican Republic'\n",
       "\\item 'Israel'\n",
       "\\item 'Kenya'\n",
       "\\item 'Hungary'\n",
       "\\item 'Republic of Ireland'\n",
       "\\item 'Romania'\n",
       "\\item 'United States'\n",
       "\\item 'Cape Verde'\n",
       "\\item 'Australia'\n",
       "\\item 'Peru'\n",
       "\\item 'Togo'\n",
       "\\item 'Syria'\n",
       "\\item 'Zimbabwe'\n",
       "\\item 'Angola'\n",
       "\\item 'Burkina Faso'\n",
       "\\item 'Iran'\n",
       "\\item 'Estonia'\n",
       "\\item 'Tunisia'\n",
       "\\item 'Equatorial Guinea'\n",
       "\\item 'New Zealand'\n",
       "\\item 'FYR Macedonia'\n",
       "\\item 'United Arab Emirates'\n",
       "\\item 'China PR'\n",
       "\\item 'Guinea Bissau'\n",
       "\\item 'Bulgaria'\n",
       "\\item 'Kosovo'\n",
       "\\item 'South Africa'\n",
       "\\item 'Madagascar'\n",
       "\\item 'Georgia'\n",
       "\\item 'Tanzania'\n",
       "\\item 'Gambia'\n",
       "\\item 'Cuba'\n",
       "\\item 'Belarus'\n",
       "\\item 'Uzbekistan'\n",
       "\\item 'Benin'\n",
       "\\item 'Congo'\n",
       "\\item 'Mozambique'\n",
       "\\item 'Honduras'\n",
       "\\item 'Canada'\n",
       "\\item 'Northern Ireland'\n",
       "\\item 'Cyprus'\n",
       "\\item 'Saudi Arabia'\n",
       "\\item 'Curacao'\n",
       "\\item 'Moldova'\n",
       "\\item 'Bolivia'\n",
       "\\item 'Trinidad \\& Tobago'\n",
       "\\item 'Sierra Leone'\n",
       "\\item 'Zambia'\n",
       "\\item 'Chad'\n",
       "\\item 'Philippines'\n",
       "\\item 'Haiti'\n",
       "\\item 'Comoros'\n",
       "\\item 'Libya'\n",
       "\\item 'Panama'\n",
       "\\item 'SÃ£o TomÃ© \\& PrÃ­ncipe'\n",
       "\\item 'Eritrea'\n",
       "\\item 'Oman'\n",
       "\\item 'Iraq'\n",
       "\\item 'Burundi'\n",
       "\\item 'Fiji'\n",
       "\\item 'New Caledonia'\n",
       "\\item 'Lithuania'\n",
       "\\item 'Luxembourg'\n",
       "\\item 'Korea DPR'\n",
       "\\item 'Liechtenstein'\n",
       "\\item 'St Kitts Nevis'\n",
       "\\item 'Latvia'\n",
       "\\item 'Suriname'\n",
       "\\item 'Uganda'\n",
       "\\item 'El Salvador'\n",
       "\\item 'Bermuda'\n",
       "\\item 'Kuwait'\n",
       "\\item 'Antigua \\& Barbuda'\n",
       "\\item 'Thailand'\n",
       "\\item 'Mauritius'\n",
       "\\item 'Guatemala'\n",
       "\\item 'Liberia'\n",
       "\\item 'Kazakhstan'\n",
       "\\item 'Niger'\n",
       "\\item 'Mauritania'\n",
       "\\item 'Montserrat'\n",
       "\\item 'Namibia'\n",
       "\\item 'Azerbaijan'\n",
       "\\item 'Guam'\n",
       "\\item 'Faroe Islands'\n",
       "\\item 'India'\n",
       "\\item 'Nicaragua'\n",
       "\\item 'Barbados'\n",
       "\\item 'Lebanon'\n",
       "\\item 'Palestine'\n",
       "\\item 'Guyana'\n",
       "\\item 'Sudan'\n",
       "\\item 'St Lucia'\n",
       "\\item 'Ethiopia'\n",
       "\\item 'Puerto Rico'\n",
       "\\item 'Grenada'\n",
       "\\item 'Jordan'\n",
       "\\item 'Rwanda'\n",
       "\\item 'Qatar'\n",
       "\\item 'Afghanistan'\n",
       "\\item 'Hong Kong'\n",
       "\\item 'Andorra'\n",
       "\\item 'Malta'\n",
       "\\item 'Belize'\n",
       "\\item 'South Sudan'\n",
       "\\item 'Indonesia'\n",
       "\\item 'Botswana'\n",
       "\\end{enumerate*}\n"
      ],
      "text/markdown": [
       "1. 'Argentina'\n",
       "2. 'Portugal'\n",
       "3. 'Brazil'\n",
       "4. 'Spain'\n",
       "5. 'Belgium'\n",
       "6. 'Croatia'\n",
       "7. 'Uruguay'\n",
       "8. 'Slovenia'\n",
       "9. 'Poland'\n",
       "10. 'Germany'\n",
       "11. 'France'\n",
       "12. 'England'\n",
       "13. 'Italy'\n",
       "14. 'Egypt'\n",
       "15. 'Colombia'\n",
       "16. 'Denmark'\n",
       "17. 'Gabon'\n",
       "18. 'Wales'\n",
       "19. 'Senegal'\n",
       "20. 'Costa Rica'\n",
       "21. 'Slovakia'\n",
       "22. 'Netherlands'\n",
       "23. 'Bosnia Herzegovina'\n",
       "24. 'Morocco'\n",
       "25. 'Serbia'\n",
       "26. 'Algeria'\n",
       "27. 'Austria'\n",
       "28. 'Greece'\n",
       "29. 'Chile'\n",
       "30. 'Sweden'\n",
       "31. 'Korea Republic'\n",
       "32. 'Finland'\n",
       "33. 'Guinea'\n",
       "34. 'Montenegro'\n",
       "35. 'Armenia'\n",
       "36. 'Switzerland'\n",
       "37. 'Norway'\n",
       "38. 'Czech Republic'\n",
       "39. 'Scotland'\n",
       "40. 'Ghana'\n",
       "41. 'Central African Rep.'\n",
       "42. 'DR Congo'\n",
       "43. 'Ivory Coast'\n",
       "44. 'Russia'\n",
       "45. 'Ukraine'\n",
       "46. 'Iceland'\n",
       "47. 'Mexico'\n",
       "48. 'Jamaica'\n",
       "49. 'Albania'\n",
       "50. 'Venezuela'\n",
       "51. 'Japan'\n",
       "52. 'Turkey'\n",
       "53. 'Ecuador'\n",
       "54. 'Paraguay'\n",
       "55. 'Mali'\n",
       "56. 'Nigeria'\n",
       "57. 'Cameroon'\n",
       "58. 'Dominican Republic'\n",
       "59. 'Israel'\n",
       "60. 'Kenya'\n",
       "61. 'Hungary'\n",
       "62. 'Republic of Ireland'\n",
       "63. 'Romania'\n",
       "64. 'United States'\n",
       "65. 'Cape Verde'\n",
       "66. 'Australia'\n",
       "67. 'Peru'\n",
       "68. 'Togo'\n",
       "69. 'Syria'\n",
       "70. 'Zimbabwe'\n",
       "71. 'Angola'\n",
       "72. 'Burkina Faso'\n",
       "73. 'Iran'\n",
       "74. 'Estonia'\n",
       "75. 'Tunisia'\n",
       "76. 'Equatorial Guinea'\n",
       "77. 'New Zealand'\n",
       "78. 'FYR Macedonia'\n",
       "79. 'United Arab Emirates'\n",
       "80. 'China PR'\n",
       "81. 'Guinea Bissau'\n",
       "82. 'Bulgaria'\n",
       "83. 'Kosovo'\n",
       "84. 'South Africa'\n",
       "85. 'Madagascar'\n",
       "86. 'Georgia'\n",
       "87. 'Tanzania'\n",
       "88. 'Gambia'\n",
       "89. 'Cuba'\n",
       "90. 'Belarus'\n",
       "91. 'Uzbekistan'\n",
       "92. 'Benin'\n",
       "93. 'Congo'\n",
       "94. 'Mozambique'\n",
       "95. 'Honduras'\n",
       "96. 'Canada'\n",
       "97. 'Northern Ireland'\n",
       "98. 'Cyprus'\n",
       "99. 'Saudi Arabia'\n",
       "100. 'Curacao'\n",
       "101. 'Moldova'\n",
       "102. 'Bolivia'\n",
       "103. 'Trinidad &amp; Tobago'\n",
       "104. 'Sierra Leone'\n",
       "105. 'Zambia'\n",
       "106. 'Chad'\n",
       "107. 'Philippines'\n",
       "108. 'Haiti'\n",
       "109. 'Comoros'\n",
       "110. 'Libya'\n",
       "111. 'Panama'\n",
       "112. 'SÃ£o TomÃ© &amp; PrÃ­ncipe'\n",
       "113. 'Eritrea'\n",
       "114. 'Oman'\n",
       "115. 'Iraq'\n",
       "116. 'Burundi'\n",
       "117. 'Fiji'\n",
       "118. 'New Caledonia'\n",
       "119. 'Lithuania'\n",
       "120. 'Luxembourg'\n",
       "121. 'Korea DPR'\n",
       "122. 'Liechtenstein'\n",
       "123. 'St Kitts Nevis'\n",
       "124. 'Latvia'\n",
       "125. 'Suriname'\n",
       "126. 'Uganda'\n",
       "127. 'El Salvador'\n",
       "128. 'Bermuda'\n",
       "129. 'Kuwait'\n",
       "130. 'Antigua &amp; Barbuda'\n",
       "131. 'Thailand'\n",
       "132. 'Mauritius'\n",
       "133. 'Guatemala'\n",
       "134. 'Liberia'\n",
       "135. 'Kazakhstan'\n",
       "136. 'Niger'\n",
       "137. 'Mauritania'\n",
       "138. 'Montserrat'\n",
       "139. 'Namibia'\n",
       "140. 'Azerbaijan'\n",
       "141. 'Guam'\n",
       "142. 'Faroe Islands'\n",
       "143. 'India'\n",
       "144. 'Nicaragua'\n",
       "145. 'Barbados'\n",
       "146. 'Lebanon'\n",
       "147. 'Palestine'\n",
       "148. 'Guyana'\n",
       "149. 'Sudan'\n",
       "150. 'St Lucia'\n",
       "151. 'Ethiopia'\n",
       "152. 'Puerto Rico'\n",
       "153. 'Grenada'\n",
       "154. 'Jordan'\n",
       "155. 'Rwanda'\n",
       "156. 'Qatar'\n",
       "157. 'Afghanistan'\n",
       "158. 'Hong Kong'\n",
       "159. 'Andorra'\n",
       "160. 'Malta'\n",
       "161. 'Belize'\n",
       "162. 'South Sudan'\n",
       "163. 'Indonesia'\n",
       "164. 'Botswana'\n",
       "\n",
       "\n"
      ],
      "text/plain": [
       "  [1] \"Argentina\"              \"Portugal\"               \"Brazil\"                \n",
       "  [4] \"Spain\"                  \"Belgium\"                \"Croatia\"               \n",
       "  [7] \"Uruguay\"                \"Slovenia\"               \"Poland\"                \n",
       " [10] \"Germany\"                \"France\"                 \"England\"               \n",
       " [13] \"Italy\"                  \"Egypt\"                  \"Colombia\"              \n",
       " [16] \"Denmark\"                \"Gabon\"                  \"Wales\"                 \n",
       " [19] \"Senegal\"                \"Costa Rica\"             \"Slovakia\"              \n",
       " [22] \"Netherlands\"            \"Bosnia Herzegovina\"     \"Morocco\"               \n",
       " [25] \"Serbia\"                 \"Algeria\"                \"Austria\"               \n",
       " [28] \"Greece\"                 \"Chile\"                  \"Sweden\"                \n",
       " [31] \"Korea Republic\"         \"Finland\"                \"Guinea\"                \n",
       " [34] \"Montenegro\"             \"Armenia\"                \"Switzerland\"           \n",
       " [37] \"Norway\"                 \"Czech Republic\"         \"Scotland\"              \n",
       " [40] \"Ghana\"                  \"Central African Rep.\"   \"DR Congo\"              \n",
       " [43] \"Ivory Coast\"            \"Russia\"                 \"Ukraine\"               \n",
       " [46] \"Iceland\"                \"Mexico\"                 \"Jamaica\"               \n",
       " [49] \"Albania\"                \"Venezuela\"              \"Japan\"                 \n",
       " [52] \"Turkey\"                 \"Ecuador\"                \"Paraguay\"              \n",
       " [55] \"Mali\"                   \"Nigeria\"                \"Cameroon\"              \n",
       " [58] \"Dominican Republic\"     \"Israel\"                 \"Kenya\"                 \n",
       " [61] \"Hungary\"                \"Republic of Ireland\"    \"Romania\"               \n",
       " [64] \"United States\"          \"Cape Verde\"             \"Australia\"             \n",
       " [67] \"Peru\"                   \"Togo\"                   \"Syria\"                 \n",
       " [70] \"Zimbabwe\"               \"Angola\"                 \"Burkina Faso\"          \n",
       " [73] \"Iran\"                   \"Estonia\"                \"Tunisia\"               \n",
       " [76] \"Equatorial Guinea\"      \"New Zealand\"            \"FYR Macedonia\"         \n",
       " [79] \"United Arab Emirates\"   \"China PR\"               \"Guinea Bissau\"         \n",
       " [82] \"Bulgaria\"               \"Kosovo\"                 \"South Africa\"          \n",
       " [85] \"Madagascar\"             \"Georgia\"                \"Tanzania\"              \n",
       " [88] \"Gambia\"                 \"Cuba\"                   \"Belarus\"               \n",
       " [91] \"Uzbekistan\"             \"Benin\"                  \"Congo\"                 \n",
       " [94] \"Mozambique\"             \"Honduras\"               \"Canada\"                \n",
       " [97] \"Northern Ireland\"       \"Cyprus\"                 \"Saudi Arabia\"          \n",
       "[100] \"Curacao\"                \"Moldova\"                \"Bolivia\"               \n",
       "[103] \"Trinidad & Tobago\"      \"Sierra Leone\"           \"Zambia\"                \n",
       "[106] \"Chad\"                   \"Philippines\"            \"Haiti\"                 \n",
       "[109] \"Comoros\"                \"Libya\"                  \"Panama\"                \n",
       "[112] \"SÃ£o TomÃ© & PrÃ­ncipe\" \"Eritrea\"                \"Oman\"                  \n",
       "[115] \"Iraq\"                   \"Burundi\"                \"Fiji\"                  \n",
       "[118] \"New Caledonia\"          \"Lithuania\"              \"Luxembourg\"            \n",
       "[121] \"Korea DPR\"              \"Liechtenstein\"          \"St Kitts Nevis\"        \n",
       "[124] \"Latvia\"                 \"Suriname\"               \"Uganda\"                \n",
       "[127] \"El Salvador\"            \"Bermuda\"                \"Kuwait\"                \n",
       "[130] \"Antigua & Barbuda\"      \"Thailand\"               \"Mauritius\"             \n",
       "[133] \"Guatemala\"              \"Liberia\"                \"Kazakhstan\"            \n",
       "[136] \"Niger\"                  \"Mauritania\"             \"Montserrat\"            \n",
       "[139] \"Namibia\"                \"Azerbaijan\"             \"Guam\"                  \n",
       "[142] \"Faroe Islands\"          \"India\"                  \"Nicaragua\"             \n",
       "[145] \"Barbados\"               \"Lebanon\"                \"Palestine\"             \n",
       "[148] \"Guyana\"                 \"Sudan\"                  \"St Lucia\"              \n",
       "[151] \"Ethiopia\"               \"Puerto Rico\"            \"Grenada\"               \n",
       "[154] \"Jordan\"                 \"Rwanda\"                 \"Qatar\"                 \n",
       "[157] \"Afghanistan\"            \"Hong Kong\"              \"Andorra\"               \n",
       "[160] \"Malta\"                  \"Belize\"                 \"South Sudan\"           \n",
       "[163] \"Indonesia\"              \"Botswana\"              "
      ]
     },
     "metadata": {},
     "output_type": "display_data"
    }
   ],
   "source": [
    "unique(fifa$Nationality)"
   ]
  },
  {
   "cell_type": "code",
   "execution_count": 10,
   "id": "242fa712-de2a-4d4f-97ed-a29e5e1c8275",
   "metadata": {},
   "outputs": [
    {
     "data": {
      "image/png": "[encoded data removed]",
      "text/plain": [
       "Plot with title \"Potencial de jugadores\""
      ]
     },
     "metadata": {
      "image/png": {
       "height": 420,
       "width": 420
      }
     },
     "output_type": "display_data"
    }
   ],
   "source": [
    "hist(fifa$Potential, main = \"Potencial de jugadores\", xlab = \"Potencial\")"
   ]
  },
  {
   "cell_type": "code",
   "execution_count": 11,
   "id": "349225a1-5f4b-48a3-b6f8-1f8bd3357414",
   "metadata": {},
   "outputs": [],
   "source": [
    "## Como son muchos paises, vamos a escoger algunos\n",
    "## tengo la teoria que los brasileños tienen mas potencial si los comparamos con los Chinos o los Méxicanos"
   ]
  },
  {
   "cell_type": "code",
   "execution_count": 12,
   "id": "4ef15a42-9531-4b75-8e42-a0ca42868cd5",
   "metadata": {},
   "outputs": [
    {
     "data": {
      "text/html": [
       "<table class=\"dataframe\">\n",
       "<caption>A data.frame: 6 × 3</caption>\n",
       "<thead>\n",
       "\t<tr><th></th><th scope=col>Name</th><th scope=col>Nationality</th><th scope=col>Potential</th></tr>\n",
       "\t<tr><th></th><th scope=col>&lt;chr&gt;</th><th scope=col>&lt;chr&gt;</th><th scope=col>&lt;int&gt;</th></tr>\n",
       "</thead>\n",
       "<tbody>\n",
       "\t<tr><th scope=row>1</th><td>Neymar Jr   </td><td>Brazil</td><td>93</td></tr>\n",
       "\t<tr><th scope=row>2</th><td>Casemiro    </td><td>Brazil</td><td>90</td></tr>\n",
       "\t<tr><th scope=row>3</th><td>Coutinho    </td><td>Brazil</td><td>89</td></tr>\n",
       "\t<tr><th scope=row>4</th><td>Marcelo     </td><td>Brazil</td><td>88</td></tr>\n",
       "\t<tr><th scope=row>5</th><td>Thiago Silva</td><td>Brazil</td><td>88</td></tr>\n",
       "\t<tr><th scope=row>6</th><td>Ederson     </td><td>Brazil</td><td>90</td></tr>\n",
       "</tbody>\n",
       "</table>\n"
      ],
      "text/latex": [
       "A data.frame: 6 × 3\n",
       "\\begin{tabular}{r|lll}\n",
       "  & Name & Nationality & Potential\\\\\n",
       "  & <chr> & <chr> & <int>\\\\\n",
       "\\hline\n",
       "\t1 & Neymar Jr    & Brazil & 93\\\\\n",
       "\t2 & Casemiro     & Brazil & 90\\\\\n",
       "\t3 & Coutinho     & Brazil & 89\\\\\n",
       "\t4 & Marcelo      & Brazil & 88\\\\\n",
       "\t5 & Thiago Silva & Brazil & 88\\\\\n",
       "\t6 & Ederson      & Brazil & 90\\\\\n",
       "\\end{tabular}\n"
      ],
      "text/markdown": [
       "\n",
       "A data.frame: 6 × 3\n",
       "\n",
       "| <!--/--> | Name &lt;chr&gt; | Nationality &lt;chr&gt; | Potential &lt;int&gt; |\n",
       "|---|---|---|---|\n",
       "| 1 | Neymar Jr    | Brazil | 93 |\n",
       "| 2 | Casemiro     | Brazil | 90 |\n",
       "| 3 | Coutinho     | Brazil | 89 |\n",
       "| 4 | Marcelo      | Brazil | 88 |\n",
       "| 5 | Thiago Silva | Brazil | 88 |\n",
       "| 6 | Ederson      | Brazil | 90 |\n",
       "\n"
      ],
      "text/plain": [
       "  Name         Nationality Potential\n",
       "1 Neymar Jr    Brazil      93       \n",
       "2 Casemiro     Brazil      90       \n",
       "3 Coutinho     Brazil      89       \n",
       "4 Marcelo      Brazil      88       \n",
       "5 Thiago Silva Brazil      88       \n",
       "6 Ederson      Brazil      90       "
      ]
     },
     "metadata": {},
     "output_type": "display_data"
    }
   ],
   "source": [
    "fifa2 <- fifa |> select(Name, Nationality,Potential) |> filter(Nationality %in% c('Brazil', 'Japan','Mexico'))\n",
    "head(fifa2)"
   ]
  },
  {
   "cell_type": "code",
   "execution_count": 38,
   "id": "9273e3d6-50b2-487a-a5ac-575a6982ced2",
   "metadata": {},
   "outputs": [
    {
     "data": {
      "image/png": "[encoded data removed]",
      "text/plain": [
       "plot without title"
      ]
     },
     "metadata": {
      "image/png": {
       "height": 420,
       "width": 420
      }
     },
     "output_type": "display_data"
    }
   ],
   "source": [
    "p <- fifa2 |> ggplot(aes(x = Nationality, y = Potential, fill = Nationality)) +\n",
    "        geom_violin( alpha=0.7)  + theme_bw()\n",
    "p"
   ]
  },
  {
   "cell_type": "code",
   "execution_count": 18,
   "id": "96875550-2b15-44f7-bb59-3658e52f22a3",
   "metadata": {},
   "outputs": [
    {
     "data": {
      "text/html": [
       "<strong>png:</strong> 2"
      ],
      "text/latex": [
       "\\textbf{png:} 2"
      ],
      "text/markdown": [
       "**png:** 2"
      ],
      "text/plain": [
       "png \n",
       "  2 "
      ]
     },
     "metadata": {},
     "output_type": "display_data"
    }
   ],
   "source": [
    "png(file = \"imagenes/Violinfi.png\")\n",
    "p\n",
    "dev.off()"
   ]
  },
  {
   "cell_type": "code",
   "execution_count": 19,
   "id": "39244c2a-4f9a-4f83-96c4-ebc4cabd7240",
   "metadata": {},
   "outputs": [
    {
     "data": {
      "image/png": "[encoded data removed]",
      "text/plain": [
       "Plot with title \"Histogram of fifa2$Potential[fifa$Nationality == \"Mexico\"]\""
      ]
     },
     "metadata": {
      "image/png": {
       "height": 420,
       "width": 420
      }
     },
     "output_type": "display_data"
    }
   ],
   "source": [
    "hist(fifa2$Potential[ fifa$Nationality == 'Mexico' ], breaks = 10)"
   ]
  },
  {
   "cell_type": "code",
   "execution_count": 20,
   "id": "16b90c3a-190b-4b6f-9ebb-9d37a850f3f6",
   "metadata": {},
   "outputs": [
    {
     "data": {
      "text/html": [
       "18207"
      ],
      "text/latex": [
       "18207"
      ],
      "text/markdown": [
       "18207"
      ],
      "text/plain": [
       "[1] 18207"
      ]
     },
     "metadata": {},
     "output_type": "display_data"
    }
   ],
   "source": [
    "# ¿Cuantos jugadore Mexicanos aparecen en este juego?\n",
    "\n",
    "length(fifa$Nationality)"
   ]
  },
  {
   "cell_type": "code",
   "execution_count": 21,
   "id": "b60db325-1a03-4fa3-9e61-168112216009",
   "metadata": {},
   "outputs": [
    {
     "data": {
      "text/html": [
       "366"
      ],
      "text/latex": [
       "366"
      ],
      "text/markdown": [
       "366"
      ],
      "text/plain": [
       "[1] 366"
      ]
     },
     "metadata": {},
     "output_type": "display_data"
    }
   ],
   "source": [
    "length(fifa2$Nationality[ fifa2$Nationality == 'Mexico' ])"
   ]
  },
  {
   "cell_type": "code",
   "execution_count": 22,
   "id": "4a2a2e3c-ced3-48eb-ac01-f246f78e5cd8",
   "metadata": {},
   "outputs": [],
   "source": [
    "## Podemos crera una funcion mas sencilla para no tener que escribir lo de arriba\n",
    "\n",
    "contarNacionalidad <- function(pais) length(fifa$Nationality[ fifa$Nationality == pais ])"
   ]
  },
  {
   "cell_type": "code",
   "execution_count": 23,
   "id": "254c7539-c616-44d2-9bd0-6a9cc0a709dd",
   "metadata": {},
   "outputs": [
    {
     "data": {
      "text/html": [
       "937"
      ],
      "text/latex": [
       "937"
      ],
      "text/markdown": [
       "937"
      ],
      "text/plain": [
       "[1] 937"
      ]
     },
     "metadata": {},
     "output_type": "display_data"
    }
   ],
   "source": [
    "contarNacionalidad(c('Argentina'))"
   ]
  },
  {
   "cell_type": "code",
   "execution_count": 24,
   "id": "28c80eaa-6391-4da2-886c-55ef5697180c",
   "metadata": {},
   "outputs": [
    {
     "name": "stderr",
     "output_type": "stream",
     "text": [
      "Installing package into 'C:/Users/Usuario/Documents/R/win-library/4.1'\n",
      "(as 'lib' is unspecified)\n",
      "\n",
      "also installing the dependencies 'extrafontdb', 'Rttf2pt1', 'systemfonts', 'extrafont', 'gdtools'\n",
      "\n",
      "\n"
     ]
    },
    {
     "name": "stdout",
     "output_type": "stream",
     "text": [
      "package 'extrafontdb' successfully unpacked and MD5 sums checked\n",
      "package 'Rttf2pt1' successfully unpacked and MD5 sums checked\n",
      "package 'systemfonts' successfully unpacked and MD5 sums checked\n",
      "package 'extrafont' successfully unpacked and MD5 sums checked\n",
      "package 'gdtools' successfully unpacked and MD5 sums checked\n",
      "package 'hrbrthemes' successfully unpacked and MD5 sums checked\n",
      "\n",
      "The downloaded binary packages are in\n",
      "\tC:\\Users\\Usuario\\AppData\\Local\\Temp\\Rtmp4iA2ty\\downloaded_packages\n"
     ]
    }
   ],
   "source": [
    "install.packages(\"hrbrthemes\")"
   ]
  },
  {
   "cell_type": "code",
   "execution_count": 28,
   "id": "703007d0-c973-4d98-82bd-415755576294",
   "metadata": {},
   "outputs": [
    {
     "name": "stderr",
     "output_type": "stream",
     "text": [
      "NOTE: Either Arial Narrow or Roboto Condensed fonts are required to use these themes.\n",
      "\n",
      "      Please use hrbrthemes::import_roboto_condensed() to install Roboto Condensed and\n",
      "\n",
      "      if Arial Narrow is not on your system, please see https://bit.ly/arialnarrow\n",
      "\n"
     ]
    }
   ],
   "source": [
    "library(hrbrthemes)"
   ]
  },
  {
   "cell_type": "code",
   "execution_count": 29,
   "id": "80c171a0-6ec8-46f4-a37e-1b687970c989",
   "metadata": {},
   "outputs": [
    {
     "name": "stderr",
     "output_type": "stream",
     "text": [
      "You will likely need to install these fonts on your system as well.\n",
      "\n",
      "You can find them in [C:/Users/Usuario/Documents/R/win-library/4.1/hrbrthemes/fonts/roboto-condensed]\n",
      "\n"
     ]
    }
   ],
   "source": [
    "hrbrthemes::import_roboto_condensed()"
   ]
  },
  {
   "cell_type": "code",
   "execution_count": 40,
   "id": "7cc23af6-3c6d-4888-b251-e68e779ebe3a",
   "metadata": {},
   "outputs": [
    {
     "name": "stderr",
     "output_type": "stream",
     "text": [
      "Installing package into 'C:/Users/Usuario/Documents/R/win-library/4.1'\n",
      "(as 'lib' is unspecified)\n",
      "\n",
      "also installing the dependency 'gridExtra'\n",
      "\n",
      "\n"
     ]
    },
    {
     "name": "stdout",
     "output_type": "stream",
     "text": [
      "package 'gridExtra' successfully unpacked and MD5 sums checked\n",
      "package 'viridis' successfully unpacked and MD5 sums checked\n",
      "\n",
      "The downloaded binary packages are in\n",
      "\tC:\\Users\\Usuario\\AppData\\Local\\Temp\\Rtmp4iA2ty\\downloaded_packages\n"
     ]
    }
   ],
   "source": [
    "install.packages(\"viridis\")"
   ]
  },
  {
   "cell_type": "code",
   "execution_count": 41,
   "id": "724f0f48-749f-44f5-9629-08236bdb26d2",
   "metadata": {},
   "outputs": [
    {
     "name": "stderr",
     "output_type": "stream",
     "text": [
      "Loading required package: viridisLite\n",
      "\n"
     ]
    }
   ],
   "source": [
    "library(viridis)"
   ]
  },
  {
   "cell_type": "code",
   "execution_count": null,
   "id": "60932164-0332-44dc-8fe6-84e05f819b73",
   "metadata": {},
   "outputs": [],
   "source": []
  }
 ],
 "metadata": {
  "kernelspec": {
   "display_name": "R",
   "language": "R",
   "name": "ir"
  },
  "language_info": {
   "codemirror_mode": "r",
   "file_extension": ".r",
   "mimetype": "text/x-r-source",
   "name": "R",
   "pygments_lexer": "r",
   "version": "4.1.3"
  }
 },
 "nbformat": 4,
 "nbformat_minor": 5
}
